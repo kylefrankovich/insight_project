{
 "cells": [
  {
   "cell_type": "markdown",
   "metadata": {},
   "source": [
    "### testing out setting up a mongo database\n",
    "\n",
    "#### tutorial: http://api.mongodb.com/python/current/tutorial.html"
   ]
  },
  {
   "cell_type": "code",
   "execution_count": 97,
   "metadata": {
    "collapsed": true
   },
   "outputs": [],
   "source": [
    "import json\n",
    "from pymongo import MongoClient\n",
    "import pymongo\n",
    "import datetime\n",
    "from datetime import timedelta\n",
    "import os\n",
    "import pprint"
   ]
  },
  {
   "cell_type": "code",
   "execution_count": 5,
   "metadata": {},
   "outputs": [
    {
     "data": {
      "text/plain": [
       "20"
      ]
     },
     "execution_count": 5,
     "metadata": {},
     "output_type": "execute_result"
    }
   ],
   "source": [
    "# data we'll be adding to a test DB:\n",
    "\n",
    "# single shop example:\n",
    "fname = '/Users/kylefrankovich/Desktop/insight/list_test_data/deluxetattoochicago/deluxetattoochicago.json'\n",
    "data = json.load(open(fname))\n",
    "len(data)"
   ]
  },
  {
   "cell_type": "code",
   "execution_count": 78,
   "metadata": {},
   "outputs": [
    {
     "data": {
      "text/plain": [
       "{'__typename': 'GraphImage',\n",
       " 'comments_disabled': False,\n",
       " 'dimensions': {'height': 1350, 'width': 1080},\n",
       " 'display_url': 'https://scontent-atl3-1.cdninstagram.com/vp/7871e551e9177d2c35ec382de74dd080/5AF7EE27/t51.2885-15/e35/26284607_178071299611229_5893020074452713472_n.jpg',\n",
       " 'edge_media_preview_like': {'count': 185},\n",
       " 'edge_media_to_caption': {'edges': [{'node': {'text': 'Tattoo done by Bunny. #bunnydontinstagram #deluxetattoochicago'}}]},\n",
       " 'edge_media_to_comment': {'count': 2},\n",
       " 'id': '1693847046342017180',\n",
       " 'is_video': False,\n",
       " 'location': {'has_public_page': True,\n",
       "  'id': '1669554',\n",
       "  'name': 'Deluxe Tattoo',\n",
       "  'slug': 'deluxe-tattoo'},\n",
       " 'owner': {'id': '253694160'},\n",
       " 'shortcode': 'BeBwOoND4Cc',\n",
       " 'tags': ['deluxetattoochicago', 'bunnydontinstagram'],\n",
       " 'taken_at_timestamp': 1516142324,\n",
       " 'thumbnail_resources': [{'config_height': 150,\n",
       "   'config_width': 150,\n",
       "   'src': 'https://scontent-atl3-1.cdninstagram.com/vp/c7cd169e1f7b23b5996756cfda7a536e/5AF9CF1B/t51.2885-15/s150x150/e35/c0.135.1080.1080/26284607_178071299611229_5893020074452713472_n.jpg'},\n",
       "  {'config_height': 240,\n",
       "   'config_width': 240,\n",
       "   'src': 'https://scontent-atl3-1.cdninstagram.com/vp/f02d262b47c2cbdfc2372875e430999c/5AE19E70/t51.2885-15/s240x240/e35/c0.135.1080.1080/26284607_178071299611229_5893020074452713472_n.jpg'},\n",
       "  {'config_height': 320,\n",
       "   'config_width': 320,\n",
       "   'src': 'https://scontent-atl3-1.cdninstagram.com/vp/d85792af861e30504b6210532153f533/5AECB7B8/t51.2885-15/s320x320/e35/c0.135.1080.1080/26284607_178071299611229_5893020074452713472_n.jpg'},\n",
       "  {'config_height': 480,\n",
       "   'config_width': 480,\n",
       "   'src': 'https://scontent-atl3-1.cdninstagram.com/vp/ba0790f1aaa249b11ec411aa25df536b/5AD81352/t51.2885-15/s480x480/e35/c0.135.1080.1080/26284607_178071299611229_5893020074452713472_n.jpg'},\n",
       "  {'config_height': 640,\n",
       "   'config_width': 640,\n",
       "   'src': 'https://scontent-atl3-1.cdninstagram.com/vp/d9523bbbfdab2ca1521cdbc6df6d11f1/5AF890F5/t51.2885-15/s640x640/sh0.08/e35/c0.135.1080.1080/26284607_178071299611229_5893020074452713472_n.jpg'}],\n",
       " 'thumbnail_src': 'https://scontent-atl3-1.cdninstagram.com/vp/d9523bbbfdab2ca1521cdbc6df6d11f1/5AF890F5/t51.2885-15/s640x640/sh0.08/e35/c0.135.1080.1080/26284607_178071299611229_5893020074452713472_n.jpg',\n",
       " 'urls': ['https://scontent-atl3-1.cdninstagram.com/vp/7871e551e9177d2c35ec382de74dd080/5AF7EE27/t51.2885-15/e35/26284607_178071299611229_5893020074452713472_n.jpg']}"
      ]
     },
     "execution_count": 78,
     "metadata": {},
     "output_type": "execute_result"
    }
   ],
   "source": [
    "data[0]"
   ]
  },
  {
   "cell_type": "markdown",
   "metadata": {},
   "source": [
    "### make connection with MongoClient:"
   ]
  },
  {
   "cell_type": "code",
   "execution_count": 8,
   "metadata": {
    "collapsed": true
   },
   "outputs": [],
   "source": [
    "# client = MongoClient() # connects to default host and port, can also manually specify:\n",
    "client = MongoClient('localhost', 27017)"
   ]
  },
  {
   "cell_type": "markdown",
   "metadata": {},
   "source": [
    "### creating database:\n",
    "\n",
    "A single instance of MongoDB can support multiple independent databases. When working with PyMongo you access databases using attribute style access on MongoClient instances:"
   ]
  },
  {
   "cell_type": "code",
   "execution_count": 9,
   "metadata": {
    "collapsed": true
   },
   "outputs": [],
   "source": [
    "db = client.test_database"
   ]
  },
  {
   "cell_type": "markdown",
   "metadata": {},
   "source": [
    "### creating a collection:\n",
    "\n",
    "A collection is a group of documents stored in MongoDB, and can be thought of as roughly the equivalent of a table in a relational database. Getting a collection in PyMongo works the same as getting a database:"
   ]
  },
  {
   "cell_type": "code",
   "execution_count": 10,
   "metadata": {
    "collapsed": true
   },
   "outputs": [],
   "source": [
    "collection = db.test_collection"
   ]
  },
  {
   "cell_type": "code",
   "execution_count": 25,
   "metadata": {},
   "outputs": [
    {
     "name": "stdout",
     "output_type": "stream",
     "text": [
      "2018-01-18\n"
     ]
    }
   ],
   "source": [
    "# datetime with a certain range: https://stackoverflow.com/questions/4695609/checking-date-against-date-range-in-python\n",
    "\n",
    "now = datetime.datetime.now()\n",
    "now\n",
    "then = datetime.datetime.now() - timedelta(days=4)\n",
    "then\n",
    "print(then.date())"
   ]
  },
  {
   "cell_type": "code",
   "execution_count": 32,
   "metadata": {},
   "outputs": [
    {
     "data": {
      "text/plain": [
       "{'URL': 'https://scontent-atl3-1.cdninstagram.com/vp/7871e551e9177d2c35ec382de74dd080/5AF7EE27/t51.2885-15/e35/26284607_178071299611229_5893020074452713472_n.jpg',\n",
       " 'account': 'deluxetattoochicago',\n",
       " 'contains_tattoo': 1,\n",
       " 'date_added': datetime.datetime(2018, 1, 18, 13, 21, 45, 899653),\n",
       " 'likes': 185,\n",
       " 'link_to_post': 'https://www.instagram.com/p/BeBwOoND4Cc'}"
      ]
     },
     "execution_count": 32,
     "metadata": {},
     "output_type": "execute_result"
    }
   ],
   "source": [
    "account_name = 'deluxetattoochicago'\n",
    "insta_url = 'https://www.instagram.com/p/'\n",
    "account_name\n",
    "temp_dict = {}\n",
    "temp_dict['account'] = account_name\n",
    "temp_dict['URL'] = data[0]['display_url']\n",
    "temp_dict['link_to_post'] = insta_url + data[0]['shortcode']\n",
    "temp_dict['likes'] = data[0]['edge_media_preview_like']['count']\n",
    "temp_dict['date_added'] = then\n",
    "temp_dict['contains_tattoo'] = 1\n",
    "temp_dict"
   ]
  },
  {
   "cell_type": "code",
   "execution_count": 34,
   "metadata": {},
   "outputs": [
    {
     "data": {
      "text/plain": [
       "{'author': 'Mike',\n",
       " 'date': datetime.datetime(2018, 1, 22, 19, 27, 32, 46113),\n",
       " 'tags': ['mongodb', 'python', 'pymongo'],\n",
       " 'text': 'My first blog post!'}"
      ]
     },
     "execution_count": 34,
     "metadata": {},
     "output_type": "execute_result"
    }
   ],
   "source": [
    "post = {\"author\": \"Mike\",\n",
    "...         \"text\": \"My first blog post!\",\n",
    "...         \"tags\": [\"mongodb\", \"python\", \"pymongo\"],\n",
    "...         \"date\": datetime.datetime.utcnow()}\n",
    "post"
   ]
  },
  {
   "cell_type": "code",
   "execution_count": 36,
   "metadata": {
    "collapsed": true
   },
   "outputs": [],
   "source": [
    "# set up a test collection to insert test data:"
   ]
  },
  {
   "cell_type": "code",
   "execution_count": 35,
   "metadata": {
    "collapsed": true
   },
   "outputs": [],
   "source": [
    "test_collection = db.test_collection"
   ]
  },
  {
   "cell_type": "code",
   "execution_count": 38,
   "metadata": {},
   "outputs": [
    {
     "data": {
      "text/plain": [
       "<pymongo.results.InsertOneResult at 0x1062907c8>"
      ]
     },
     "execution_count": 38,
     "metadata": {},
     "output_type": "execute_result"
    }
   ],
   "source": [
    "# insert a test post:\n",
    "test_collection.insert_one(temp_dict)"
   ]
  },
  {
   "cell_type": "code",
   "execution_count": 39,
   "metadata": {},
   "outputs": [
    {
     "data": {
      "text/plain": [
       "['test_collection']"
      ]
     },
     "execution_count": 39,
     "metadata": {},
     "output_type": "execute_result"
    }
   ],
   "source": [
    "# listing all of the collections in our database:\n",
    "\n",
    "db.collection_names(include_system_collections=False)"
   ]
  },
  {
   "cell_type": "code",
   "execution_count": 41,
   "metadata": {},
   "outputs": [
    {
     "name": "stdout",
     "output_type": "stream",
     "text": [
      "{'URL': 'https://scontent-atl3-1.cdninstagram.com/vp/7871e551e9177d2c35ec382de74dd080/5AF7EE27/t51.2885-15/e35/26284607_178071299611229_5893020074452713472_n.jpg',\n",
      " '_id': ObjectId('5a663cf7fce11d1e9428e791'),\n",
      " 'account': 'deluxetattoochicago',\n",
      " 'contains_tattoo': 1,\n",
      " 'date_added': datetime.datetime(2018, 1, 18, 13, 21, 45, 899000),\n",
      " 'likes': 185,\n",
      " 'link_to_post': 'https://www.instagram.com/p/BeBwOoND4Cc'}\n"
     ]
    }
   ],
   "source": [
    "# getting a single document:\n",
    "\n",
    "pprint.pprint(test_collection.find_one())"
   ]
  },
  {
   "cell_type": "code",
   "execution_count": 42,
   "metadata": {},
   "outputs": [
    {
     "data": {
      "text/plain": [
       "1"
      ]
     },
     "execution_count": 42,
     "metadata": {},
     "output_type": "execute_result"
    }
   ],
   "source": [
    "test_collection.count()"
   ]
  },
  {
   "cell_type": "code",
   "execution_count": 84,
   "metadata": {},
   "outputs": [],
   "source": [
    "# code for looping through shop/artist posts, add to database\n",
    "\n",
    "rootdir = '/Users/kylefrankovich/Desktop/insight/list_test_data'\n",
    "\n",
    "rows_list = []\n",
    "insta_url = 'https://www.instagram.com/p/'\n",
    "\n",
    "current_date = datetime.datetime.now()\n",
    "\n",
    "for root, dirs, files in os.walk(rootdir):\n",
    "    for file in files:\n",
    "        if file.endswith('.json'):\n",
    "            current_account_data = json.load(open(os.path.join(root, file))) # load current account .json (shop or artist)\n",
    "            account_name = os.path.basename(root)\n",
    "            for post in current_account_data: # loop throough all posts for account\n",
    "                temp_dict = {}\n",
    "                temp_dict['account'] = account_name\n",
    "                temp_dict['URL'] = post['display_url']\n",
    "                temp_dict['link_to_post'] = insta_url + post['shortcode']\n",
    "                temp_dict['likes'] = post['edge_media_preview_like']['count']\n",
    "                temp_dict['owner_id'] = post['owner']['id']\n",
    "                temp_dict['dimensions'] = post['dimensions']\n",
    "                if 'tags' in post.keys():\n",
    "                    temp_dict['tags'] = post['tags']\n",
    "                else:\n",
    "                    temp_dict['tags'] = []\n",
    "                if post['edge_media_to_caption']['edges']:\n",
    "                    temp_dict['caption'] = post['edge_media_to_caption']['edges'][0]['node']['text']\n",
    "                else: \n",
    "                    temp_dict['caption'] = 'no caption'\n",
    "                temp_dict['date_added'] = current_date\n",
    "                temp_dict['contains_tattoo'] = 1 # need to update here with model when ready\n",
    "                if collection.find({\"URL\": temp_dict['URL']}).count() == 0: # only add current post if not in database\n",
    "                    collection.insert_one(temp_dict)"
   ]
  },
  {
   "cell_type": "code",
   "execution_count": 85,
   "metadata": {},
   "outputs": [
    {
     "data": {
      "text/plain": [
       "85"
      ]
     },
     "execution_count": 85,
     "metadata": {},
     "output_type": "execute_result"
    }
   ],
   "source": [
    "test_collection.count()"
   ]
  },
  {
   "cell_type": "code",
   "execution_count": 86,
   "metadata": {},
   "outputs": [
    {
     "name": "stdout",
     "output_type": "stream",
     "text": [
      "{'URL': 'https://scontent-atl3-1.cdninstagram.com/vp/7871e551e9177d2c35ec382de74dd080/5AF7EE27/t51.2885-15/e35/26284607_178071299611229_5893020074452713472_n.jpg',\n",
      " '_id': ObjectId('5a663cf7fce11d1e9428e791'),\n",
      " 'account': 'deluxetattoochicago',\n",
      " 'contains_tattoo': 1,\n",
      " 'date_added': datetime.datetime(2018, 1, 18, 13, 21, 45, 899000),\n",
      " 'likes': 185,\n",
      " 'link_to_post': 'https://www.instagram.com/p/BeBwOoND4Cc'}\n",
      "{'URL': 'https://scontent-atl3-1.cdninstagram.com/vp/7871e551e9177d2c35ec382de74dd080/5AF7EE27/t51.2885-15/e35/26284607_178071299611229_5893020074452713472_n.jpg',\n",
      " '_id': ObjectId('5a663ee4fce11d1e9428e792'),\n",
      " 'account': 'deluxetattoochicago',\n",
      " 'contains_tattoo': 1,\n",
      " 'date_added': datetime.datetime(2018, 1, 18, 13, 21, 45, 899000),\n",
      " 'likes': 185,\n",
      " 'link_to_post': 'https://www.instagram.com/p/BeBwOoND4Cc'}\n",
      "{'URL': 'https://scontent-atl3-1.cdninstagram.com/vp/e32bc058804e635bcaab86fed63a32a7/5AE5E8DC/t51.2885-15/e35/26066203_1973289282700532_7567894987308793856_n.jpg',\n",
      " '_id': ObjectId('5a663ee4fce11d1e9428e793'),\n",
      " 'account': 'deluxetattoochicago',\n",
      " 'contains_tattoo': 1,\n",
      " 'date_added': datetime.datetime(2018, 1, 18, 13, 21, 45, 899000),\n",
      " 'likes': 131,\n",
      " 'link_to_post': 'https://www.instagram.com/p/Bd0TJ0uD3ES'}\n",
      "{'URL': 'https://scontent-atl3-1.cdninstagram.com/vp/71e6e047ce4a02f93c45f6e5793801e3/5AE1A16E/t51.2885-15/e35/26285353_1667962419929625_8077982530495578112_n.jpg',\n",
      " '_id': ObjectId('5a663ee4fce11d1e9428e794'),\n",
      " 'account': 'deluxetattoochicago',\n",
      " 'contains_tattoo': 1,\n",
      " 'date_added': datetime.datetime(2018, 1, 18, 13, 21, 45, 899000),\n",
      " 'likes': 119,\n",
      " 'link_to_post': 'https://www.instagram.com/p/Bdyg13ajIlf'}\n",
      "{'URL': 'https://scontent-atl3-1.cdninstagram.com/vp/63be4ebe3e7bfbdfc608c76d2006dffb/5ADE200A/t51.2885-15/e35/26431711_1129691153834015_6000177429723742208_n.jpg',\n",
      " '_id': ObjectId('5a663ee4fce11d1e9428e795'),\n",
      " 'account': 'deluxetattoochicago',\n",
      " 'contains_tattoo': 1,\n",
      " 'date_added': datetime.datetime(2018, 1, 18, 13, 21, 45, 899000),\n",
      " 'likes': 161,\n",
      " 'link_to_post': 'https://www.instagram.com/p/BdyeeqLDiGp'}\n",
      "{'URL': 'https://scontent-atl3-1.cdninstagram.com/vp/98578ed91483765b06571dbe81a0e11a/5AD991F4/t51.2885-15/e35/25022809_1008858069279995_1445642165987311616_n.jpg',\n",
      " '_id': ObjectId('5a663ee4fce11d1e9428e796'),\n",
      " 'account': 'deluxetattoochicago',\n",
      " 'contains_tattoo': 1,\n",
      " 'date_added': datetime.datetime(2018, 1, 18, 13, 21, 45, 899000),\n",
      " 'likes': 224,\n",
      " 'link_to_post': 'https://www.instagram.com/p/BdoeDrjjA5Y'}\n",
      "{'URL': 'https://scontent-atl3-1.cdninstagram.com/vp/9dca76a48a8fc4dddc52dd498cdd7809/5AE42C51/t51.2885-15/e35/25039354_2032732323618206_5105675100770795520_n.jpg',\n",
      " '_id': ObjectId('5a663ee4fce11d1e9428e797'),\n",
      " 'account': 'deluxetattoochicago',\n",
      " 'contains_tattoo': 1,\n",
      " 'date_added': datetime.datetime(2018, 1, 18, 13, 21, 45, 899000),\n",
      " 'likes': 148,\n",
      " 'link_to_post': 'https://www.instagram.com/p/BdodkqpD4mi'}\n",
      "{'URL': 'https://scontent-atl3-1.cdninstagram.com/vp/2e985d46778c7593a51a6e0a950cdc50/5AFA436D/t51.2885-15/e35/26227982_165392444230160_5159881741279690752_n.jpg',\n",
      " '_id': ObjectId('5a663ee4fce11d1e9428e798'),\n",
      " 'account': 'deluxetattoochicago',\n",
      " 'contains_tattoo': 1,\n",
      " 'date_added': datetime.datetime(2018, 1, 18, 13, 21, 45, 899000),\n",
      " 'likes': 83,\n",
      " 'link_to_post': 'https://www.instagram.com/p/BdiN5nwDm_e'}\n",
      "{'URL': 'https://scontent-atl3-1.cdninstagram.com/vp/49dac097faa3d5ad51131e16a4ccf00f/5AFCCE32/t51.2885-15/e35/25036840_102388070564484_5977541646403764224_n.jpg',\n",
      " '_id': ObjectId('5a663ee4fce11d1e9428e799'),\n",
      " 'account': 'deluxetattoochicago',\n",
      " 'contains_tattoo': 1,\n",
      " 'date_added': datetime.datetime(2018, 1, 18, 13, 21, 45, 899000),\n",
      " 'likes': 135,\n",
      " 'link_to_post': 'https://www.instagram.com/p/BdS_qK5D1zL'}\n",
      "{'URL': 'https://scontent-atl3-1.cdninstagram.com/vp/ebf8846c660670b4f2ed031068b4d470/5ADB6FB5/t51.2885-15/e35/23498394_177463556330612_1069983018946396160_n.jpg',\n",
      " '_id': ObjectId('5a663ee4fce11d1e9428e79a'),\n",
      " 'account': 'deluxetattoochicago',\n",
      " 'contains_tattoo': 1,\n",
      " 'date_added': datetime.datetime(2018, 1, 18, 13, 21, 45, 899000),\n",
      " 'likes': 145,\n",
      " 'link_to_post': 'https://www.instagram.com/p/Bc8Z7SYjNiZ'}\n",
      "{'URL': 'https://scontent-atl3-1.cdninstagram.com/vp/9b21c4bada4639c29bfdb57c48640391/5ADA58B0/t51.2885-15/e35/25009123_357901634674078_2096285722276265984_n.jpg',\n",
      " '_id': ObjectId('5a663ee4fce11d1e9428e79b'),\n",
      " 'account': 'deluxetattoochicago',\n",
      " 'contains_tattoo': 1,\n",
      " 'date_added': datetime.datetime(2018, 1, 18, 13, 21, 45, 899000),\n",
      " 'likes': 104,\n",
      " 'link_to_post': 'https://www.instagram.com/p/Bc5lQ_hDemC'}\n",
      "{'URL': 'https://scontent-atl3-1.cdninstagram.com/vp/7979d4437dd20385af0ded8965dea4a3/5AD8D896/t51.2885-15/e35/25006994_556603274672666_2363245367383818240_n.jpg',\n",
      " '_id': ObjectId('5a663ee4fce11d1e9428e79c'),\n",
      " 'account': 'deluxetattoochicago',\n",
      " 'contains_tattoo': 1,\n",
      " 'date_added': datetime.datetime(2018, 1, 18, 13, 21, 45, 899000),\n",
      " 'likes': 72,\n",
      " 'link_to_post': 'https://www.instagram.com/p/Bc21guVjlY_'}\n",
      "{'URL': 'https://scontent-atl3-1.cdninstagram.com/vp/11f3a71a80b8d9d8e97e70419e9fa969/5AF771CD/t51.2885-15/e35/25037801_139962603388497_8772939849947676672_n.jpg',\n",
      " '_id': ObjectId('5a663ee4fce11d1e9428e79d'),\n",
      " 'account': 'deluxetattoochicago',\n",
      " 'contains_tattoo': 1,\n",
      " 'date_added': datetime.datetime(2018, 1, 18, 13, 21, 45, 899000),\n",
      " 'likes': 101,\n",
      " 'link_to_post': 'https://www.instagram.com/p/Bc207wfDa6d'}\n",
      "{'URL': 'https://scontent-atl3-1.cdninstagram.com/vp/92f2c38d832b5908a311ef4e9fd6c593/5AF0A196/t51.2885-15/e35/25009704_131489644300576_8814101747065683968_n.jpg',\n",
      " '_id': ObjectId('5a663ee4fce11d1e9428e79e'),\n",
      " 'account': 'deluxetattoochicago',\n",
      " 'contains_tattoo': 1,\n",
      " 'date_added': datetime.datetime(2018, 1, 18, 13, 21, 45, 899000),\n",
      " 'likes': 138,\n",
      " 'link_to_post': 'https://www.instagram.com/p/BcsmjU2DXoP'}\n",
      "{'URL': 'https://scontent-atl3-1.cdninstagram.com/vp/9a3317b9ccdfde623e8636318654a2f9/5AFD4EFB/t51.2885-15/e35/25007573_208365776373258_5615841581161512960_n.jpg',\n",
      " '_id': ObjectId('5a663ee4fce11d1e9428e79f'),\n",
      " 'account': 'deluxetattoochicago',\n",
      " 'contains_tattoo': 1,\n",
      " 'date_added': datetime.datetime(2018, 1, 18, 13, 21, 45, 899000),\n",
      " 'likes': 100,\n",
      " 'link_to_post': 'https://www.instagram.com/p/BcnjlVHDruT'}\n",
      "{'URL': 'https://scontent-atl3-1.cdninstagram.com/vp/b67c97fda8b23b9e2c87a97ccb2ebc60/5AE6D513/t51.2885-15/e35/24331718_140853473301957_8542061787007156224_n.jpg',\n",
      " '_id': ObjectId('5a663ee4fce11d1e9428e7a0'),\n",
      " 'account': 'deluxetattoochicago',\n",
      " 'contains_tattoo': 1,\n",
      " 'date_added': datetime.datetime(2018, 1, 18, 13, 21, 45, 899000),\n",
      " 'likes': 78,\n",
      " 'link_to_post': 'https://www.instagram.com/p/BciH3gQjCAp'}\n",
      "{'URL': 'https://scontent-atl3-1.cdninstagram.com/vp/be9b85188bfe9345493bdea641abbbf3/5AFF0B48/t51.2885-15/e35/25005522_192623314647329_9168161572294492160_n.jpg',\n",
      " '_id': ObjectId('5a663ee4fce11d1e9428e7a1'),\n",
      " 'account': 'deluxetattoochicago',\n",
      " 'contains_tattoo': 1,\n",
      " 'date_added': datetime.datetime(2018, 1, 18, 13, 21, 45, 899000),\n",
      " 'likes': 96,\n",
      " 'link_to_post': 'https://www.instagram.com/p/Bcakw3hjeWr'}\n",
      "{'URL': 'https://scontent-atl3-1.cdninstagram.com/vp/3bfbddee80fd7176b08e96ca2c468c79/5ADAFFED/t51.2885-15/e35/25015051_1761182324175269_7694694872996904960_n.jpg',\n",
      " '_id': ObjectId('5a663ee4fce11d1e9428e7a2'),\n",
      " 'account': 'deluxetattoochicago',\n",
      " 'contains_tattoo': 1,\n",
      " 'date_added': datetime.datetime(2018, 1, 18, 13, 21, 45, 899000),\n",
      " 'likes': 136,\n",
      " 'link_to_post': 'https://www.instagram.com/p/BcYA6S5jBnc'}\n",
      "{'URL': 'https://scontent-atl3-1.cdninstagram.com/vp/f2b001a621ea652eb5a6edb3ce1d12b6/5AE42868/t51.2885-15/e35/24254512_2040159722934815_3201141934340964352_n.jpg',\n",
      " '_id': ObjectId('5a663ee4fce11d1e9428e7a3'),\n",
      " 'account': 'deluxetattoochicago',\n",
      " 'contains_tattoo': 1,\n",
      " 'date_added': datetime.datetime(2018, 1, 18, 13, 21, 45, 899000),\n",
      " 'likes': 86,\n",
      " 'link_to_post': 'https://www.instagram.com/p/BcP762ZjRQd'}\n",
      "{'URL': 'https://scontent-atl3-1.cdninstagram.com/vp/6bbfc79d53093047cb16c779fb80c56c/5AFCE19B/t51.2885-15/e35/24331845_1993326810902278_2995971037373399040_n.jpg',\n",
      " '_id': ObjectId('5a663ee4fce11d1e9428e7a4'),\n",
      " 'account': 'deluxetattoochicago',\n",
      " 'contains_tattoo': 1,\n",
      " 'date_added': datetime.datetime(2018, 1, 18, 13, 21, 45, 899000),\n",
      " 'likes': 103,\n",
      " 'link_to_post': 'https://www.instagram.com/p/BcP7nLujw0h'}\n",
      "{'URL': 'https://scontent-atl3-1.cdninstagram.com/vp/329c26d7ee346b3bb70f01afa694df11/5AFAD340/t51.2885-15/e35/24175577_318846565261631_3070528508536029184_n.jpg',\n",
      " '_id': ObjectId('5a663ee4fce11d1e9428e7a5'),\n",
      " 'account': 'deluxetattoochicago',\n",
      " 'contains_tattoo': 1,\n",
      " 'date_added': datetime.datetime(2018, 1, 18, 13, 21, 45, 899000),\n",
      " 'likes': 73,\n",
      " 'link_to_post': 'https://www.instagram.com/p/BcI8-WUj14p'}\n",
      "{'URL': 'https://scontent-atl3-1.cdninstagram.com/vp/fd5c6cb734db7ef0353851cadb76fb5a/5AF8B089/t51.2885-15/e35/26868510_169631330205395_3289498946447081472_n.jpg',\n",
      " '_id': ObjectId('5a663ee4fce11d1e9428e7a6'),\n",
      " 'account': 'insightstudios',\n",
      " 'contains_tattoo': 1,\n",
      " 'date_added': datetime.datetime(2018, 1, 18, 13, 21, 45, 899000),\n",
      " 'likes': 165,\n",
      " 'link_to_post': 'https://www.instagram.com/p/BeDeSpyg5xy'}\n",
      "{'URL': 'https://scontent-atl3-1.cdninstagram.com/vp/b87e432e7a15bc1d892b32ccf8756cb1/5AD94864/t51.2885-15/e35/26066603_144928322886301_8109344527719858176_n.jpg',\n",
      " '_id': ObjectId('5a663ee4fce11d1e9428e7a7'),\n",
      " 'account': 'insightstudios',\n",
      " 'contains_tattoo': 1,\n",
      " 'date_added': datetime.datetime(2018, 1, 18, 13, 21, 45, 899000),\n",
      " 'likes': 149,\n",
      " 'link_to_post': 'https://www.instagram.com/p/Bd3KOtpgOP4'}\n",
      "{'URL': 'https://scontent-atl3-1.cdninstagram.com/vp/54976ae116f11b583bad50131803f5df/5AEE99AC/t51.2885-15/e35/26183280_157665141543202_1462534405506465792_n.jpg',\n",
      " '_id': ObjectId('5a663ee4fce11d1e9428e7a8'),\n",
      " 'account': 'insightstudios',\n",
      " 'contains_tattoo': 1,\n",
      " 'date_added': datetime.datetime(2018, 1, 18, 13, 21, 45, 899000),\n",
      " 'likes': 174,\n",
      " 'link_to_post': 'https://www.instagram.com/p/Bd2GQSTAY6S'}\n",
      "{'URL': 'https://scontent-atl3-1.cdninstagram.com/vp/2358ad76383c7b9205bb37a1d7fd20ad/5ADA9557/t51.2885-15/e35/26298027_1571268236298843_6309177790977540096_n.jpg',\n",
      " '_id': ObjectId('5a663ee4fce11d1e9428e7a9'),\n",
      " 'account': 'insightstudios',\n",
      " 'contains_tattoo': 1,\n",
      " 'date_added': datetime.datetime(2018, 1, 18, 13, 21, 45, 899000),\n",
      " 'likes': 142,\n",
      " 'link_to_post': 'https://www.instagram.com/p/Bdx_pAXgvF0'}\n",
      "{'URL': 'https://scontent-atl3-1.cdninstagram.com/vp/20e70e227a3c7ea8161f8f599d14c752/5AF277AA/t51.2885-15/e35/25025498_143294303040892_7509462395333378048_n.jpg',\n",
      " '_id': ObjectId('5a663ee4fce11d1e9428e7aa'),\n",
      " 'account': 'insightstudios',\n",
      " 'contains_tattoo': 1,\n",
      " 'date_added': datetime.datetime(2018, 1, 18, 13, 21, 45, 899000),\n",
      " 'likes': 43,\n",
      " 'link_to_post': 'https://www.instagram.com/p/Bdns6YzAKLo'}\n",
      "{'URL': 'https://scontent-atl3-1.cdninstagram.com/vp/bb02a1171617cbab6b92b0418725ce8d/5AEAACEF/t51.2885-15/e35/26072322_350447375435784_4436857115490910208_n.jpg',\n",
      " '_id': ObjectId('5a663ee4fce11d1e9428e7ab'),\n",
      " 'account': 'insightstudios',\n",
      " 'contains_tattoo': 1,\n",
      " 'date_added': datetime.datetime(2018, 1, 18, 13, 21, 45, 899000),\n",
      " 'likes': 130,\n",
      " 'link_to_post': 'https://www.instagram.com/p/BdnpIVVgU0A'}\n",
      "{'URL': 'https://scontent-atl3-1.cdninstagram.com/vp/59c80c174527be589cf02a2cca43cebc/5AED5548/t51.2885-15/e35/25017355_146308889485212_2704073223007371264_n.jpg',\n",
      " '_id': ObjectId('5a663ee4fce11d1e9428e7ac'),\n",
      " 'account': 'insightstudios',\n",
      " 'contains_tattoo': 1,\n",
      " 'date_added': datetime.datetime(2018, 1, 18, 13, 21, 45, 899000),\n",
      " 'likes': 138,\n",
      " 'link_to_post': 'https://www.instagram.com/p/BdjZOV7g_pW'}\n",
      "{'URL': 'https://scontent-atl3-1.cdninstagram.com/vp/36a0bdc15460493fd706375cf674ab2e/5AE5AD27/t51.2885-15/e35/25023268_323596008125067_6462701092030382080_n.jpg',\n",
      " '_id': ObjectId('5a663ee4fce11d1e9428e7ad'),\n",
      " 'account': 'insightstudios',\n",
      " 'contains_tattoo': 1,\n",
      " 'date_added': datetime.datetime(2018, 1, 18, 13, 21, 45, 899000),\n",
      " 'likes': 171,\n",
      " 'link_to_post': 'https://www.instagram.com/p/BdiMhxHAe3Y'}\n",
      "{'URL': 'https://scontent-atl3-1.cdninstagram.com/vp/bf464a365437f034e80a518bafadd23b/5ADD5748/t51.2885-15/e35/25023208_1131039340366001_7630513626209583104_n.jpg',\n",
      " '_id': ObjectId('5a663ee4fce11d1e9428e7ae'),\n",
      " 'account': 'insightstudios',\n",
      " 'contains_tattoo': 1,\n",
      " 'date_added': datetime.datetime(2018, 1, 18, 13, 21, 45, 899000),\n",
      " 'likes': 178,\n",
      " 'link_to_post': 'https://www.instagram.com/p/Bdd-6xvAYO3'}\n",
      "{'URL': 'https://scontent-atl3-1.cdninstagram.com/vp/27b15d276e6097f53f350956ce8efbdb/5AF290D3/t51.2885-15/e35/25022937_919346644893915_5540585679597076480_n.jpg',\n",
      " '_id': ObjectId('5a663ee4fce11d1e9428e7af'),\n",
      " 'account': 'insightstudios',\n",
      " 'contains_tattoo': 1,\n",
      " 'date_added': datetime.datetime(2018, 1, 18, 13, 21, 45, 899000),\n",
      " 'likes': 180,\n",
      " 'link_to_post': 'https://www.instagram.com/p/BdTvutOg8Ab'}\n",
      "{'URL': 'https://scontent-atl3-1.cdninstagram.com/vp/0c6f182b2ed805d99ce9b207e9606cf3/5AF067CE/t51.2885-15/e35/26067629_261647367699172_5878060480022446080_n.jpg',\n",
      " '_id': ObjectId('5a663ee4fce11d1e9428e7b0'),\n",
      " 'account': 'insightstudios',\n",
      " 'contains_tattoo': 1,\n",
      " 'date_added': datetime.datetime(2018, 1, 18, 13, 21, 45, 899000),\n",
      " 'likes': 121,\n",
      " 'link_to_post': 'https://www.instagram.com/p/BdTu_yFgeIJ'}\n",
      "{'URL': 'https://scontent-atl3-1.cdninstagram.com/vp/0c5c6d062ebb26e8f2e0147fb8387626/5AFB2734/t51.2885-15/e35/26342486_158825551556336_7027123338765926400_n.jpg',\n",
      " '_id': ObjectId('5a663ee4fce11d1e9428e7b1'),\n",
      " 'account': 'insightstudios',\n",
      " 'contains_tattoo': 1,\n",
      " 'date_added': datetime.datetime(2018, 1, 18, 13, 21, 45, 899000),\n",
      " 'likes': 331,\n",
      " 'link_to_post': 'https://www.instagram.com/p/BdRgy62gE_q'}\n",
      "{'URL': 'https://scontent-atl3-1.cdninstagram.com/vp/6fb14aaf9ae3b940716a989c6a3d4796/5ADC71E6/t51.2885-15/e35/25012134_314918739006611_7930085189923897344_n.jpg',\n",
      " '_id': ObjectId('5a663ee4fce11d1e9428e7b2'),\n",
      " 'account': 'insightstudios',\n",
      " 'contains_tattoo': 1,\n",
      " 'date_added': datetime.datetime(2018, 1, 18, 13, 21, 45, 899000),\n",
      " 'likes': 261,\n",
      " 'link_to_post': 'https://www.instagram.com/p/BdNsMLeAlr6'}\n",
      "{'URL': 'https://scontent-atl3-1.cdninstagram.com/vp/7fc8ef59a84755b983f2cf76cbedaf67/5AE23F85/t51.2885-15/e35/25015319_752812168246948_7670002079515017216_n.jpg',\n",
      " '_id': ObjectId('5a663ee4fce11d1e9428e7b3'),\n",
      " 'account': 'insightstudios',\n",
      " 'contains_tattoo': 1,\n",
      " 'date_added': datetime.datetime(2018, 1, 18, 13, 21, 45, 899000),\n",
      " 'likes': 42,\n",
      " 'link_to_post': 'https://www.instagram.com/p/BdFqJKogeCl'}\n",
      "{'URL': 'https://scontent-atl3-1.cdninstagram.com/vp/1dc91a072e3a4d316715696d9913d359/5AE85DBA/t51.2885-15/e35/25018647_168753233875421_800875791406596096_n.jpg',\n",
      " '_id': ObjectId('5a663ee4fce11d1e9428e7b4'),\n",
      " 'account': 'insightstudios',\n",
      " 'contains_tattoo': 1,\n",
      " 'date_added': datetime.datetime(2018, 1, 18, 13, 21, 45, 899000),\n",
      " 'likes': 127,\n",
      " 'link_to_post': 'https://www.instagram.com/p/BdBC8ISgIMu'}\n",
      "{'URL': 'https://scontent-atl3-1.cdninstagram.com/vp/60733151b4807d8d6ffe76e41565149e/5AFCB124/t51.2885-15/e35/25010971_356405091494064_3348846911917391872_n.jpg',\n",
      " '_id': ObjectId('5a663ee4fce11d1e9428e7b5'),\n",
      " 'account': 'insightstudios',\n",
      " 'contains_tattoo': 1,\n",
      " 'date_added': datetime.datetime(2018, 1, 18, 13, 21, 45, 899000),\n",
      " 'likes': 151,\n",
      " 'link_to_post': 'https://www.instagram.com/p/Bc8CKfOgxO_'}\n",
      "{'URL': 'https://scontent-atl3-1.cdninstagram.com/vp/482b8c473631437902242844c49e92c2/5ADF70FD/t51.2885-15/e35/25021422_1550158298412908_1455885766067486720_n.jpg',\n",
      " '_id': ObjectId('5a663ee4fce11d1e9428e7b6'),\n",
      " 'account': 'insightstudios',\n",
      " 'contains_tattoo': 1,\n",
      " 'date_added': datetime.datetime(2018, 1, 18, 13, 21, 45, 899000),\n",
      " 'likes': 131,\n",
      " 'link_to_post': 'https://www.instagram.com/p/Bc8Be9zgMsb'}\n",
      "{'URL': 'https://scontent-atl3-1.cdninstagram.com/vp/95656bc8cd94896f3ecd9a3eff9266de/5A63D0FF/t51.2885-15/e15/24845937_1815263785158713_1463194859807440896_n.jpg',\n",
      " '_id': ObjectId('5a663ee4fce11d1e9428e7b7'),\n",
      " 'account': 'insightstudios',\n",
      " 'contains_tattoo': 1,\n",
      " 'date_added': datetime.datetime(2018, 1, 18, 13, 21, 45, 899000),\n",
      " 'likes': 41,\n",
      " 'link_to_post': 'https://www.instagram.com/p/Bc5-FVTg895'}\n",
      "{'URL': 'https://scontent-atl3-1.cdninstagram.com/vp/ca4954f2d10a96538406a173fc97ea41/5ADCCD42/t51.2885-15/e35/25006685_2020435804893753_8031909419878973440_n.jpg',\n",
      " '_id': ObjectId('5a663ee5fce11d1e9428e7b8'),\n",
      " 'account': 'insightstudios',\n",
      " 'contains_tattoo': 1,\n",
      " 'date_added': datetime.datetime(2018, 1, 18, 13, 21, 45, 899000),\n",
      " 'likes': 140,\n",
      " 'link_to_post': 'https://www.instagram.com/p/Bc25SaaA3C-'}\n",
      "{'URL': 'https://scontent-atl3-1.cdninstagram.com/vp/efd483267111e212d457e93ad7a58464/5AFC4636/t51.2885-15/e35/25018058_150916212155473_3927503633754619904_n.jpg',\n",
      " '_id': ObjectId('5a663ee5fce11d1e9428e7b9'),\n",
      " 'account': 'insightstudios',\n",
      " 'contains_tattoo': 1,\n",
      " 'date_added': datetime.datetime(2018, 1, 18, 13, 21, 45, 899000),\n",
      " 'likes': 72,\n",
      " 'link_to_post': 'https://www.instagram.com/p/Bc0J16iAgfs'}\n",
      "{'URL': 'https://scontent-atl3-1.cdninstagram.com/vp/7871e551e9177d2c35ec382de74dd080/5AF7EE27/t51.2885-15/e35/26284607_178071299611229_5893020074452713472_n.jpg',\n",
      " '_id': ObjectId('5a6642dbfce11d1e9428e7ba'),\n",
      " 'account': 'deluxetattoochicago',\n",
      " 'contains_tattoo': 1,\n",
      " 'date_added': datetime.datetime(2018, 1, 18, 13, 21, 45, 899000),\n",
      " 'likes': 185,\n",
      " 'link_to_post': 'https://www.instagram.com/p/BeBwOoND4Cc'}\n",
      "{'URL': 'https://scontent-atl3-1.cdninstagram.com/vp/e32bc058804e635bcaab86fed63a32a7/5AE5E8DC/t51.2885-15/e35/26066203_1973289282700532_7567894987308793856_n.jpg',\n",
      " '_id': ObjectId('5a6642dbfce11d1e9428e7bb'),\n",
      " 'account': 'deluxetattoochicago',\n",
      " 'contains_tattoo': 1,\n",
      " 'date_added': datetime.datetime(2018, 1, 18, 13, 21, 45, 899000),\n",
      " 'likes': 131,\n",
      " 'link_to_post': 'https://www.instagram.com/p/Bd0TJ0uD3ES'}\n",
      "{'URL': 'https://scontent-atl3-1.cdninstagram.com/vp/71e6e047ce4a02f93c45f6e5793801e3/5AE1A16E/t51.2885-15/e35/26285353_1667962419929625_8077982530495578112_n.jpg',\n",
      " '_id': ObjectId('5a6642dbfce11d1e9428e7bc'),\n",
      " 'account': 'deluxetattoochicago',\n",
      " 'contains_tattoo': 1,\n",
      " 'date_added': datetime.datetime(2018, 1, 18, 13, 21, 45, 899000),\n",
      " 'likes': 119,\n",
      " 'link_to_post': 'https://www.instagram.com/p/Bdyg13ajIlf'}\n",
      "{'URL': 'https://scontent-atl3-1.cdninstagram.com/vp/63be4ebe3e7bfbdfc608c76d2006dffb/5ADE200A/t51.2885-15/e35/26431711_1129691153834015_6000177429723742208_n.jpg',\n",
      " '_id': ObjectId('5a6642dbfce11d1e9428e7bd'),\n",
      " 'account': 'deluxetattoochicago',\n",
      " 'contains_tattoo': 1,\n",
      " 'date_added': datetime.datetime(2018, 1, 18, 13, 21, 45, 899000),\n",
      " 'likes': 161,\n",
      " 'link_to_post': 'https://www.instagram.com/p/BdyeeqLDiGp'}\n",
      "{'URL': 'https://scontent-atl3-1.cdninstagram.com/vp/98578ed91483765b06571dbe81a0e11a/5AD991F4/t51.2885-15/e35/25022809_1008858069279995_1445642165987311616_n.jpg',\n",
      " '_id': ObjectId('5a6642dbfce11d1e9428e7be'),\n",
      " 'account': 'deluxetattoochicago',\n",
      " 'contains_tattoo': 1,\n",
      " 'date_added': datetime.datetime(2018, 1, 18, 13, 21, 45, 899000),\n",
      " 'likes': 224,\n",
      " 'link_to_post': 'https://www.instagram.com/p/BdoeDrjjA5Y'}\n",
      "{'URL': 'https://scontent-atl3-1.cdninstagram.com/vp/9dca76a48a8fc4dddc52dd498cdd7809/5AE42C51/t51.2885-15/e35/25039354_2032732323618206_5105675100770795520_n.jpg',\n",
      " '_id': ObjectId('5a6642dbfce11d1e9428e7bf'),\n",
      " 'account': 'deluxetattoochicago',\n",
      " 'contains_tattoo': 1,\n",
      " 'date_added': datetime.datetime(2018, 1, 18, 13, 21, 45, 899000),\n",
      " 'likes': 148,\n",
      " 'link_to_post': 'https://www.instagram.com/p/BdodkqpD4mi'}\n",
      "{'URL': 'https://scontent-atl3-1.cdninstagram.com/vp/2e985d46778c7593a51a6e0a950cdc50/5AFA436D/t51.2885-15/e35/26227982_165392444230160_5159881741279690752_n.jpg',\n",
      " '_id': ObjectId('5a6642dbfce11d1e9428e7c0'),\n",
      " 'account': 'deluxetattoochicago',\n",
      " 'contains_tattoo': 1,\n",
      " 'date_added': datetime.datetime(2018, 1, 18, 13, 21, 45, 899000),\n",
      " 'likes': 83,\n",
      " 'link_to_post': 'https://www.instagram.com/p/BdiN5nwDm_e'}\n",
      "{'URL': 'https://scontent-atl3-1.cdninstagram.com/vp/49dac097faa3d5ad51131e16a4ccf00f/5AFCCE32/t51.2885-15/e35/25036840_102388070564484_5977541646403764224_n.jpg',\n",
      " '_id': ObjectId('5a6642dbfce11d1e9428e7c1'),\n",
      " 'account': 'deluxetattoochicago',\n",
      " 'contains_tattoo': 1,\n",
      " 'date_added': datetime.datetime(2018, 1, 18, 13, 21, 45, 899000),\n",
      " 'likes': 135,\n",
      " 'link_to_post': 'https://www.instagram.com/p/BdS_qK5D1zL'}\n",
      "{'URL': 'https://scontent-atl3-1.cdninstagram.com/vp/ebf8846c660670b4f2ed031068b4d470/5ADB6FB5/t51.2885-15/e35/23498394_177463556330612_1069983018946396160_n.jpg',\n",
      " '_id': ObjectId('5a6642dbfce11d1e9428e7c2'),\n",
      " 'account': 'deluxetattoochicago',\n",
      " 'contains_tattoo': 1,\n",
      " 'date_added': datetime.datetime(2018, 1, 18, 13, 21, 45, 899000),\n",
      " 'likes': 145,\n",
      " 'link_to_post': 'https://www.instagram.com/p/Bc8Z7SYjNiZ'}\n",
      "{'URL': 'https://scontent-atl3-1.cdninstagram.com/vp/9b21c4bada4639c29bfdb57c48640391/5ADA58B0/t51.2885-15/e35/25009123_357901634674078_2096285722276265984_n.jpg',\n",
      " '_id': ObjectId('5a6642dbfce11d1e9428e7c3'),\n",
      " 'account': 'deluxetattoochicago',\n",
      " 'contains_tattoo': 1,\n",
      " 'date_added': datetime.datetime(2018, 1, 18, 13, 21, 45, 899000),\n",
      " 'likes': 104,\n",
      " 'link_to_post': 'https://www.instagram.com/p/Bc5lQ_hDemC'}\n",
      "{'URL': 'https://scontent-atl3-1.cdninstagram.com/vp/7979d4437dd20385af0ded8965dea4a3/5AD8D896/t51.2885-15/e35/25006994_556603274672666_2363245367383818240_n.jpg',\n",
      " '_id': ObjectId('5a6642dbfce11d1e9428e7c4'),\n",
      " 'account': 'deluxetattoochicago',\n",
      " 'contains_tattoo': 1,\n",
      " 'date_added': datetime.datetime(2018, 1, 18, 13, 21, 45, 899000),\n",
      " 'likes': 72,\n",
      " 'link_to_post': 'https://www.instagram.com/p/Bc21guVjlY_'}\n",
      "{'URL': 'https://scontent-atl3-1.cdninstagram.com/vp/11f3a71a80b8d9d8e97e70419e9fa969/5AF771CD/t51.2885-15/e35/25037801_139962603388497_8772939849947676672_n.jpg',\n",
      " '_id': ObjectId('5a6642dbfce11d1e9428e7c5'),\n",
      " 'account': 'deluxetattoochicago',\n",
      " 'contains_tattoo': 1,\n",
      " 'date_added': datetime.datetime(2018, 1, 18, 13, 21, 45, 899000),\n",
      " 'likes': 101,\n",
      " 'link_to_post': 'https://www.instagram.com/p/Bc207wfDa6d'}\n",
      "{'URL': 'https://scontent-atl3-1.cdninstagram.com/vp/92f2c38d832b5908a311ef4e9fd6c593/5AF0A196/t51.2885-15/e35/25009704_131489644300576_8814101747065683968_n.jpg',\n",
      " '_id': ObjectId('5a6642dbfce11d1e9428e7c6'),\n",
      " 'account': 'deluxetattoochicago',\n",
      " 'contains_tattoo': 1,\n",
      " 'date_added': datetime.datetime(2018, 1, 18, 13, 21, 45, 899000),\n",
      " 'likes': 138,\n",
      " 'link_to_post': 'https://www.instagram.com/p/BcsmjU2DXoP'}\n",
      "{'URL': 'https://scontent-atl3-1.cdninstagram.com/vp/9a3317b9ccdfde623e8636318654a2f9/5AFD4EFB/t51.2885-15/e35/25007573_208365776373258_5615841581161512960_n.jpg',\n",
      " '_id': ObjectId('5a6642dbfce11d1e9428e7c7'),\n",
      " 'account': 'deluxetattoochicago',\n",
      " 'contains_tattoo': 1,\n",
      " 'date_added': datetime.datetime(2018, 1, 18, 13, 21, 45, 899000),\n",
      " 'likes': 100,\n",
      " 'link_to_post': 'https://www.instagram.com/p/BcnjlVHDruT'}\n",
      "{'URL': 'https://scontent-atl3-1.cdninstagram.com/vp/b67c97fda8b23b9e2c87a97ccb2ebc60/5AE6D513/t51.2885-15/e35/24331718_140853473301957_8542061787007156224_n.jpg',\n",
      " '_id': ObjectId('5a6642dbfce11d1e9428e7c8'),\n",
      " 'account': 'deluxetattoochicago',\n",
      " 'contains_tattoo': 1,\n",
      " 'date_added': datetime.datetime(2018, 1, 18, 13, 21, 45, 899000),\n",
      " 'likes': 78,\n",
      " 'link_to_post': 'https://www.instagram.com/p/BciH3gQjCAp'}\n",
      "{'URL': 'https://scontent-atl3-1.cdninstagram.com/vp/be9b85188bfe9345493bdea641abbbf3/5AFF0B48/t51.2885-15/e35/25005522_192623314647329_9168161572294492160_n.jpg',\n",
      " '_id': ObjectId('5a6642dbfce11d1e9428e7c9'),\n",
      " 'account': 'deluxetattoochicago',\n",
      " 'contains_tattoo': 1,\n",
      " 'date_added': datetime.datetime(2018, 1, 18, 13, 21, 45, 899000),\n",
      " 'likes': 96,\n",
      " 'link_to_post': 'https://www.instagram.com/p/Bcakw3hjeWr'}\n",
      "{'URL': 'https://scontent-atl3-1.cdninstagram.com/vp/3bfbddee80fd7176b08e96ca2c468c79/5ADAFFED/t51.2885-15/e35/25015051_1761182324175269_7694694872996904960_n.jpg',\n",
      " '_id': ObjectId('5a6642dbfce11d1e9428e7ca'),\n",
      " 'account': 'deluxetattoochicago',\n",
      " 'contains_tattoo': 1,\n",
      " 'date_added': datetime.datetime(2018, 1, 18, 13, 21, 45, 899000),\n",
      " 'likes': 136,\n",
      " 'link_to_post': 'https://www.instagram.com/p/BcYA6S5jBnc'}\n",
      "{'URL': 'https://scontent-atl3-1.cdninstagram.com/vp/f2b001a621ea652eb5a6edb3ce1d12b6/5AE42868/t51.2885-15/e35/24254512_2040159722934815_3201141934340964352_n.jpg',\n",
      " '_id': ObjectId('5a6642dbfce11d1e9428e7cb'),\n",
      " 'account': 'deluxetattoochicago',\n",
      " 'contains_tattoo': 1,\n",
      " 'date_added': datetime.datetime(2018, 1, 18, 13, 21, 45, 899000),\n",
      " 'likes': 86,\n",
      " 'link_to_post': 'https://www.instagram.com/p/BcP762ZjRQd'}\n",
      "{'URL': 'https://scontent-atl3-1.cdninstagram.com/vp/6bbfc79d53093047cb16c779fb80c56c/5AFCE19B/t51.2885-15/e35/24331845_1993326810902278_2995971037373399040_n.jpg',\n",
      " '_id': ObjectId('5a6642dbfce11d1e9428e7cc'),\n",
      " 'account': 'deluxetattoochicago',\n",
      " 'contains_tattoo': 1,\n",
      " 'date_added': datetime.datetime(2018, 1, 18, 13, 21, 45, 899000),\n",
      " 'likes': 103,\n",
      " 'link_to_post': 'https://www.instagram.com/p/BcP7nLujw0h'}\n",
      "{'URL': 'https://scontent-atl3-1.cdninstagram.com/vp/329c26d7ee346b3bb70f01afa694df11/5AFAD340/t51.2885-15/e35/24175577_318846565261631_3070528508536029184_n.jpg',\n",
      " '_id': ObjectId('5a6642dbfce11d1e9428e7cd'),\n",
      " 'account': 'deluxetattoochicago',\n",
      " 'contains_tattoo': 1,\n",
      " 'date_added': datetime.datetime(2018, 1, 18, 13, 21, 45, 899000),\n",
      " 'likes': 73,\n",
      " 'link_to_post': 'https://www.instagram.com/p/BcI8-WUj14p'}\n",
      "{'URL': 'https://scontent-atl3-1.cdninstagram.com/vp/723edec008b88761e56cd4d1844f4fe3/5AEA1048/t51.2885-15/e35/26272688_216518368909781_2370971790211022848_n.jpg',\n",
      " '_id': ObjectId('5a6642dbfce11d1e9428e7ce'),\n",
      " 'account': 'insightstudios',\n",
      " 'contains_tattoo': 1,\n",
      " 'date_added': datetime.datetime(2018, 1, 18, 13, 21, 45, 899000),\n",
      " 'likes': 94,\n",
      " 'link_to_post': 'https://www.instagram.com/p/BeOKkcTFs3J'}\n",
      "{'URL': 'https://scontent-atl3-1.cdninstagram.com/vp/1558489600c0b0bab25bfd17af7a2ffc/5AE7CB41/t51.2885-15/e35/26181957_161647934477919_8029812728514215936_n.jpg',\n",
      " '_id': ObjectId('5a6642dbfce11d1e9428e7cf'),\n",
      " 'account': 'insightstudios',\n",
      " 'contains_tattoo': 1,\n",
      " 'date_added': datetime.datetime(2018, 1, 18, 13, 21, 45, 899000),\n",
      " 'likes': 69,\n",
      " 'link_to_post': 'https://www.instagram.com/p/BeMF6jJFbgB'}\n",
      "{'URL': 'https://scontent-atl3-1.cdninstagram.com/vp/6bdec81f3d18a9614503c5e1200b7a10/5AF8B3D6/t51.2885-15/e35/26182499_388792338246202_7949969900661899264_n.jpg',\n",
      " '_id': ObjectId('5a6642dbfce11d1e9428e7d0'),\n",
      " 'account': 'insightstudios',\n",
      " 'contains_tattoo': 1,\n",
      " 'date_added': datetime.datetime(2018, 1, 18, 13, 21, 45, 899000),\n",
      " 'likes': 115,\n",
      " 'link_to_post': 'https://www.instagram.com/p/BeJeAD5AUkm'}\n",
      "{'URL': 'https://scontent-atl3-1.cdninstagram.com/vp/967e657e81cd27ace87893757ac618ba/5B0116ED/t51.2885-15/e35/26157771_1488361147928360_4849230295813062656_n.jpg',\n",
      " '_id': ObjectId('5a6642dbfce11d1e9428e7d1'),\n",
      " 'account': 'insightstudios',\n",
      " 'contains_tattoo': 1,\n",
      " 'date_added': datetime.datetime(2018, 1, 18, 13, 21, 45, 899000),\n",
      " 'likes': 135,\n",
      " 'link_to_post': 'https://www.instagram.com/p/BeJBtkogy-F'}\n",
      "{'URL': 'https://scontent-atl3-1.cdninstagram.com/vp/19afed493ff33a69c8e031e6a89d49e3/5AE57880/t51.2885-15/e35/26366056_1582751565150104_1513701321566322688_n.jpg',\n",
      " '_id': ObjectId('5a664694fce11d1e9428e7d2'),\n",
      " 'account': 'chicagoinktattoo',\n",
      " 'contains_tattoo': 1,\n",
      " 'date_added': datetime.datetime(2018, 1, 18, 13, 21, 45, 899000),\n",
      " 'likes': 34,\n",
      " 'link_to_post': 'https://www.instagram.com/p/BeMyGZultnN'}\n",
      "{'URL': 'https://scontent-atl3-1.cdninstagram.com/vp/4730aef2db03024bc745b171a9d17278/5B2265EA/t51.2885-15/e35/26186284_169953876949334_3288862019976953856_n.jpg',\n",
      " '_id': ObjectId('5a664694fce11d1e9428e7d3'),\n",
      " 'account': 'chicagoinktattoo',\n",
      " 'contains_tattoo': 1,\n",
      " 'date_added': datetime.datetime(2018, 1, 18, 13, 21, 45, 899000),\n",
      " 'likes': 41,\n",
      " 'link_to_post': 'https://www.instagram.com/p/BeMuokUl-mv'}\n",
      "{'URL': 'https://scontent-atl3-1.cdninstagram.com/vp/66edf92c5eb5f7562c6d842236137999/5B01AA86/t51.2885-15/e35/26228772_816398628555366_3725090367784091648_n.jpg',\n",
      " '_id': ObjectId('5a664694fce11d1e9428e7d4'),\n",
      " 'account': 'chicagoinktattoo',\n",
      " 'contains_tattoo': 1,\n",
      " 'date_added': datetime.datetime(2018, 1, 18, 13, 21, 45, 899000),\n",
      " 'likes': 34,\n",
      " 'link_to_post': 'https://www.instagram.com/p/BeJtUZmlwMr'}\n",
      "{'URL': 'https://scontent-atl3-1.cdninstagram.com/vp/b592401bb6a5196dc83432c7b1f70fea/5A68C320/t51.2885-15/e15/26865397_140724330057430_8147703267187490816_n.jpg',\n",
      " '_id': ObjectId('5a664694fce11d1e9428e7d5'),\n",
      " 'account': 'chicagoinktattoo',\n",
      " 'contains_tattoo': 1,\n",
      " 'date_added': datetime.datetime(2018, 1, 18, 13, 21, 45, 899000),\n",
      " 'likes': 41,\n",
      " 'link_to_post': 'https://www.instagram.com/p/BeHhmlXl6Xl'}\n",
      "{'URL': 'https://scontent-atl3-1.cdninstagram.com/vp/7e264bf6cd5fa667a3f655e565538c3a/5AEA473C/t51.2885-15/e35/26071656_246980385840019_8551483201497858048_n.jpg',\n",
      " '_id': ObjectId('5a664694fce11d1e9428e7d6'),\n",
      " 'account': 'chicagoinktattoo',\n",
      " 'contains_tattoo': 1,\n",
      " 'date_added': datetime.datetime(2018, 1, 18, 13, 21, 45, 899000),\n",
      " 'likes': 58,\n",
      " 'link_to_post': 'https://www.instagram.com/p/BeErpRUlbRK'}\n",
      "{'URL': 'https://scontent-atl3-1.cdninstagram.com/vp/5d6e60bf21e87581ee6e447e1121d379/5A688523/t51.2885-15/e15/26432255_1604736999562947_2293624720609771520_n.jpg',\n",
      " '_id': ObjectId('5a664694fce11d1e9428e7d7'),\n",
      " 'account': 'chicagoinktattoo',\n",
      " 'contains_tattoo': 1,\n",
      " 'date_added': datetime.datetime(2018, 1, 18, 13, 21, 45, 899000),\n",
      " 'likes': 47,\n",
      " 'link_to_post': 'https://www.instagram.com/p/BeCGQ1gl65r'}\n",
      "{'URL': 'https://scontent-atl3-1.cdninstagram.com/vp/51a54b1d3ff8dae27a683b7a49c52f80/5A691D48/t51.2885-15/e15/26271665_1767558110215048_5207953733970821120_n.jpg',\n",
      " '_id': ObjectId('5a664694fce11d1e9428e7d8'),\n",
      " 'account': 'chicagoinktattoo',\n",
      " 'contains_tattoo': 1,\n",
      " 'date_added': datetime.datetime(2018, 1, 18, 13, 21, 45, 899000),\n",
      " 'likes': 48,\n",
      " 'link_to_post': 'https://www.instagram.com/p/BeBFzn6FPyW'}\n",
      "{'URL': 'https://scontent-atl3-1.cdninstagram.com/vp/11b78d5774def095c7d6ec8744b12983/5AF2AA34/t51.2885-15/e35/26071428_1636484723066096_8329205720373264384_n.jpg',\n",
      " '_id': ObjectId('5a664694fce11d1e9428e7d9'),\n",
      " 'account': 'chicagoinktattoo',\n",
      " 'contains_tattoo': 1,\n",
      " 'date_added': datetime.datetime(2018, 1, 18, 13, 21, 45, 899000),\n",
      " 'likes': 72,\n",
      " 'link_to_post': 'https://www.instagram.com/p/Bd_zJibFNNY'}\n",
      "{'URL': 'https://scontent-atl3-1.cdninstagram.com/vp/9784931b2785157da99eb4f1b293cf69/5AF61A4D/t51.2885-15/e35/26868068_1941174366143935_5507390366992564224_n.jpg',\n",
      " '_id': ObjectId('5a664694fce11d1e9428e7da'),\n",
      " 'account': 'chicagoinktattoo',\n",
      " 'contains_tattoo': 1,\n",
      " 'date_added': datetime.datetime(2018, 1, 18, 13, 21, 45, 899000),\n",
      " 'likes': 41,\n",
      " 'link_to_post': 'https://www.instagram.com/p/Bd-kWGIFubI'}\n",
      "{'URL': 'https://scontent-atl3-1.cdninstagram.com/vp/f6a9c452fbd4b4369e16729483617477/5AE07A9A/t51.2885-15/e35/26180327_1974795062779606_3750451582731288576_n.jpg',\n",
      " '_id': ObjectId('5a664694fce11d1e9428e7db'),\n",
      " 'account': 'chicagoinktattoo',\n",
      " 'contains_tattoo': 1,\n",
      " 'date_added': datetime.datetime(2018, 1, 18, 13, 21, 45, 899000),\n",
      " 'likes': 56,\n",
      " 'link_to_post': 'https://www.instagram.com/p/Bd9EZTmlE7C'}\n",
      "{'URL': 'https://scontent-atl3-1.cdninstagram.com/vp/c8da63e646129087932be7255aed9a17/5A68939D/t51.2885-15/e15/26866446_988289264629190_8345956857331843072_n.jpg',\n",
      " '_id': ObjectId('5a666191fce11d1e9428e7dc'),\n",
      " 'account': 'dminus12',\n",
      " 'caption': 'KINGPIN 2018...new cannibals coming in #dgoldenmachines #chicago '\n",
      "            '#kingpintattoosupply',\n",
      " 'contains_tattoo': 1,\n",
      " 'date_added': datetime.datetime(2018, 1, 22, 16, 11, 29, 872000),\n",
      " 'dimensions': {'height': 750, 'width': 750},\n",
      " 'likes': 52,\n",
      " 'link_to_post': 'https://www.instagram.com/p/BeM3dUmnNY6',\n",
      " 'owner_id': '7131984',\n",
      " 'tags': ['dgoldenmachines', 'chicago', 'kingpintattoosupply']}\n",
      "{'URL': 'https://scontent-atl3-1.cdninstagram.com/vp/d376a004d599c2dd3a1156e61aa0ff11/5ADD7FE1/t51.2885-15/e35/26066478_346935105773153_6976207742717394944_n.jpg',\n",
      " '_id': ObjectId('5a666191fce11d1e9428e7dd'),\n",
      " 'account': 'dminus12',\n",
      " 'caption': 'Pair for @robertlamb if you would like a machine you can text me '\n",
      "            'at 540 915-3922 or DM works too #dgolden #dgoldenmachines '\n",
      "            '#dustingoldenmachines #2017 #chicago #chicagomade',\n",
      " 'contains_tattoo': 1,\n",
      " 'date_added': datetime.datetime(2018, 1, 22, 16, 11, 29, 872000),\n",
      " 'dimensions': {'height': 1286, 'width': 1080},\n",
      " 'likes': 128,\n",
      " 'link_to_post': 'https://www.instagram.com/p/Bdyi9pgnN1_',\n",
      " 'owner_id': '7131984',\n",
      " 'tags': ['2017',\n",
      "          'dgoldenmachines',\n",
      "          'dgolden',\n",
      "          'chicagomade',\n",
      "          'chicago',\n",
      "          'dustingoldenmachines']}\n",
      "{'URL': 'https://scontent-atl3-1.cdninstagram.com/vp/c8dca8b972ccc0d007d04c693be41872/5AF8FC2A/t51.2885-15/e35/26066708_407097943056735_5979904161884405760_n.jpg',\n",
      " '_id': ObjectId('5a666191fce11d1e9428e7de'),\n",
      " 'account': 'dminus12',\n",
      " 'caption': 'Thank you 2017 it was a great year...onward to 2018 looking '\n",
      "            'forward to more tattooing...machine building and painting as '\n",
      "            'usual #2017 #lastpost #ncisthenewfj #deluxe #deluxetattoochicago '\n",
      "            '#dgolden #dustingoldenmachines #tattoo #tattoos #chicago',\n",
      " 'contains_tattoo': 1,\n",
      " 'date_added': datetime.datetime(2018, 1, 22, 16, 11, 29, 872000),\n",
      " 'dimensions': {'height': 1080, 'width': 1080},\n",
      " 'likes': 101,\n",
      " 'link_to_post': 'https://www.instagram.com/p/BdYOd9Jnd80',\n",
      " 'owner_id': '7131984',\n",
      " 'tags': ['ncisthenewfj',\n",
      "          'deluxe',\n",
      "          '2017',\n",
      "          'dgolden',\n",
      "          'deluxetattoochicago',\n",
      "          'lastpost',\n",
      "          'tattoo',\n",
      "          'tattoos',\n",
      "          'chicago',\n",
      "          'dustingoldenmachines']}\n",
      "{'URL': 'https://scontent-atl3-1.cdninstagram.com/vp/b12b6d1f9defa8b6bd7e3d1702b92dce/5AF54086/t51.2885-15/e35/25018912_2035869276683428_4327989306674118656_n.jpg',\n",
      " '_id': ObjectId('5a666191fce11d1e9428e7df'),\n",
      " 'account': 'dminus12',\n",
      " 'caption': 'Deluxe Tattoo 2017 #chicago #dustingoldenmachines #deluxe '\n",
      "            '#deluxetattoo #dgolden #dgoldenmachines #tattoo #tattoos '\n",
      "            '#tattooer #ncisthenewfj #2017 #owltattoo #skull '\n",
      "            '#deluxetattoochicago',\n",
      " 'contains_tattoo': 1,\n",
      " 'date_added': datetime.datetime(2018, 1, 22, 16, 11, 29, 872000),\n",
      " 'dimensions': {'height': 1080, 'width': 1080},\n",
      " 'likes': 133,\n",
      " 'link_to_post': 'https://www.instagram.com/p/BdSpeQCHBd4',\n",
      " 'owner_id': '7131984',\n",
      " 'tags': ['ncisthenewfj',\n",
      "          'owltattoo',\n",
      "          'deluxe',\n",
      "          'deluxetattoo',\n",
      "          '2017',\n",
      "          'skull',\n",
      "          'dgoldenmachines',\n",
      "          'dgolden',\n",
      "          'tattooer',\n",
      "          'deluxetattoochicago',\n",
      "          'tattoo',\n",
      "          'tattoos',\n",
      "          'chicago',\n",
      "          'dustingoldenmachines']}\n",
      "{'URL': 'https://scontent-atl3-1.cdninstagram.com/vp/49fbd0a8650d1c500eb88bc0ee03f38f/5AE04649/t51.2885-15/e35/25014997_145923159316262_5348817820782166016_n.jpg',\n",
      " '_id': ObjectId('5a666191fce11d1e9428e7e0'),\n",
      " 'account': 'dminus12',\n",
      " 'caption': 'Merry Xmas everyone from my family to yours',\n",
      " 'contains_tattoo': 1,\n",
      " 'date_added': datetime.datetime(2018, 1, 22, 16, 11, 29, 872000),\n",
      " 'dimensions': {'height': 640, 'width': 640},\n",
      " 'likes': 132,\n",
      " 'link_to_post': 'https://www.instagram.com/p/BdGzDkTHVRb',\n",
      " 'owner_id': '7131984',\n",
      " 'tags': []}\n",
      "{'URL': 'https://scontent-atl3-1.cdninstagram.com/vp/1a4c7ec2bd056c0d073c6a9f6cca0fcf/5B26685C/t51.2885-15/e35/25014873_1802241166473022_4356188584470904832_n.jpg',\n",
      " '_id': ObjectId('5a666191fce11d1e9428e7e1'),\n",
      " 'account': 'dminus12',\n",
      " 'caption': 'Deluxe Tattoo 2017 #chicago #deluxe #deluxetattoo #dgolden '\n",
      "            '#dgoldenmachines #tattoo #tattoos #tattooer #2017',\n",
      " 'contains_tattoo': 1,\n",
      " 'date_added': datetime.datetime(2018, 1, 22, 16, 11, 29, 872000),\n",
      " 'dimensions': {'height': 1080, 'width': 1080},\n",
      " 'likes': 108,\n",
      " 'link_to_post': 'https://www.instagram.com/p/BdBUc73HwmS',\n",
      " 'owner_id': '7131984',\n",
      " 'tags': ['deluxe',\n",
      "          'deluxetattoo',\n",
      "          '2017',\n",
      "          'dgoldenmachines',\n",
      "          'dgolden',\n",
      "          'tattoo',\n",
      "          'tattoos',\n",
      "          'chicago',\n",
      "          'tattooer']}\n",
      "{'URL': 'https://scontent-atl3-1.cdninstagram.com/vp/7964e3698fdd281b2b2eb9717b4afacc/5B250F6F/t51.2885-15/e35/25012975_178123752931136_1222334352273178624_n.jpg',\n",
      " '_id': ObjectId('5a666191fce11d1e9428e7e2'),\n",
      " 'account': 'dminus12',\n",
      " 'caption': 'Deluxe Tattoo 2017 #chicago #deluxe #deluxetattoo #dgolden '\n",
      "            '#dgoldenmachines #2017 #tattoo #tattoos #tattooer #gorilla #skull',\n",
      " 'contains_tattoo': 1,\n",
      " 'date_added': datetime.datetime(2018, 1, 22, 16, 11, 29, 872000),\n",
      " 'dimensions': {'height': 1080, 'width': 1080},\n",
      " 'likes': 154,\n",
      " 'link_to_post': 'https://www.instagram.com/p/BdA2QBGHfbi',\n",
      " 'owner_id': '7131984',\n",
      " 'tags': ['deluxe',\n",
      "          'deluxetattoo',\n",
      "          '2017',\n",
      "          'gorilla',\n",
      "          'skull',\n",
      "          'dgoldenmachines',\n",
      "          'dgolden',\n",
      "          'tattoo',\n",
      "          'tattoos',\n",
      "          'chicago',\n",
      "          'tattooer']}\n",
      "{'URL': 'https://scontent-atl3-1.cdninstagram.com/vp/304e8d2880b1c4c3192ff55dbcb49754/5AE54DFC/t51.2885-15/e35/25005806_1650643314991754_4204487655221624832_n.jpg',\n",
      " '_id': ObjectId('5a666191fce11d1e9428e7e3'),\n",
      " 'account': 'dminus12',\n",
      " 'caption': 'Deluxe Tattoo 2017 #chicago #chicagomade #deluxe #deluxetattoo '\n",
      "            '#dgolden #dgoldenmachines #2017 #skulls #tattoo #tattooer '\n",
      "            '#dustingoldenmachines',\n",
      " 'contains_tattoo': 1,\n",
      " 'date_added': datetime.datetime(2018, 1, 22, 16, 11, 29, 872000),\n",
      " 'dimensions': {'height': 1080, 'width': 1080},\n",
      " 'likes': 167,\n",
      " 'link_to_post': 'https://www.instagram.com/p/BcvynmPnS5T',\n",
      " 'owner_id': '7131984',\n",
      " 'tags': ['deluxe',\n",
      "          'deluxetattoo',\n",
      "          '2017',\n",
      "          'dustingoldenmachines',\n",
      "          'dgoldenmachines',\n",
      "          'dgolden',\n",
      "          'chicagomade',\n",
      "          'tattoo',\n",
      "          'skulls',\n",
      "          'chicago',\n",
      "          'tattooer']}\n",
      "{'URL': 'https://scontent-atl3-1.cdninstagram.com/vp/0162776feee0174c9f51b94d66673f14/5AE3CB46/t51.2885-15/e35/25005182_1775123692558643_7612487042877882368_n.jpg',\n",
      " '_id': ObjectId('5a666191fce11d1e9428e7e4'),\n",
      " 'account': 'dminus12',\n",
      " 'caption': 'Deluxe Tattoo 2017 #dgolden #chicago #deluxe #deluxetattoo #2017 '\n",
      "            '#ship #dgoldenmachines',\n",
      " 'contains_tattoo': 1,\n",
      " 'date_added': datetime.datetime(2018, 1, 22, 16, 11, 29, 872000),\n",
      " 'dimensions': {'height': 1080, 'width': 1080},\n",
      " 'likes': 124,\n",
      " 'link_to_post': 'https://www.instagram.com/p/BcvFBNgnJ5e',\n",
      " 'owner_id': '7131984',\n",
      " 'tags': ['ship',\n",
      "          '2017',\n",
      "          'deluxe',\n",
      "          'deluxetattoo',\n",
      "          'dgoldenmachines',\n",
      "          'dgolden',\n",
      "          'chicago']}\n",
      "{'URL': 'https://scontent-atl3-1.cdninstagram.com/vp/39d073c23a40984dd7e259e3e4efc8c4/5AF3B9E9/t51.2885-15/e35/25005880_134817797182658_1625621550755479552_n.jpg',\n",
      " '_id': ObjectId('5a666191fce11d1e9428e7e5'),\n",
      " 'account': 'dminus12',\n",
      " 'caption': 'Year End sale...i have these ready to go and ship out asap...you '\n",
      "            'can hit me in the DM or text 540-915-3922 for pricing '\n",
      "            '#dustingoldenmachines #tattoomachineforsale #dgolden #chicago '\n",
      "            '#2017 #chicagomade',\n",
      " 'contains_tattoo': 1,\n",
      " 'date_added': datetime.datetime(2018, 1, 22, 16, 11, 29, 872000),\n",
      " 'dimensions': {'height': 1080, 'width': 1080},\n",
      " 'likes': 75,\n",
      " 'link_to_post': 'https://www.instagram.com/p/Bcc1KjIHxGq',\n",
      " 'owner_id': '7131984',\n",
      " 'tags': ['2017',\n",
      "          'tattoomachineforsale',\n",
      "          'dgolden',\n",
      "          'chicagomade',\n",
      "          'chicago',\n",
      "          'dustingoldenmachines']}\n"
     ]
    }
   ],
   "source": [
    "for post in test_collection.find():\n",
    "    pprint.pprint(post)"
   ]
  },
  {
   "cell_type": "code",
   "execution_count": 47,
   "metadata": {},
   "outputs": [
    {
     "data": {
      "text/plain": [
       "21"
      ]
     },
     "execution_count": 47,
     "metadata": {},
     "output_type": "execute_result"
    }
   ],
   "source": [
    "test_collection.find({\"account\": \"deluxetattoochicago\"}).count()"
   ]
  },
  {
   "cell_type": "markdown",
   "metadata": {},
   "source": [
    "### test out updating the account posts with instagram-scraper, then update the database:\n",
    "\n",
    "instagram-scraper --filename /Users/kylefrankovich/Desktop/insight/chicago_short_shop_list.txt --maximum 10 --media-types image --include-location --destination /Users/kylefrankovich/Desktop/insight/list_test_data --latest --retain-username\n",
    "\n",
    "#### search on 1/22 had no updates for deluxe, but had 4 new posts for insightstudios; raises new issue, need to check to see if post is in database before adding it:"
   ]
  },
  {
   "cell_type": "code",
   "execution_count": 63,
   "metadata": {},
   "outputs": [],
   "source": [
    "blah = test_collection.find({\"URL\": feral_url})\n",
    "test_collection.find({\"URL\": data[1]['display_url']}).count()\n",
    "if test_collection.find({\"URL\": feral_url}).count() == 0:\n",
    "    print('URL not in database, add it')"
   ]
  },
  {
   "cell_type": "code",
   "execution_count": 52,
   "metadata": {},
   "outputs": [
    {
     "data": {
      "text/plain": [
       "'https://scontent-atl3-1.cdninstagram.com/vp/7871e551e9177d2c35ec382de74dd080/5AF7EE27/t51.2885-15/e35/26284607_178071299611229_5893020074452713472_n.jpg'"
      ]
     },
     "execution_count": 52,
     "metadata": {},
     "output_type": "execute_result"
    }
   ],
   "source": [
    "feral_url = 'https://scontent-atl3-1.cdninstagram.com/vp/28607fb4ca62fc1cfe265fecffd76904/5AE6B6C4/t51.2885-15/e35/26066485_169583613655603_4826747482048299008_n.jpg'\n",
    "\n",
    "data[0]['display_url']"
   ]
  },
  {
   "cell_type": "markdown",
   "metadata": {},
   "source": [
    "### added another shop (chicagoinktattoo); should theoretically add new folder, not update deluxe and insight studios, and then updating the database should only add the new posts from new shop:\n",
    "\n",
    "instagram-scraper --filename /Users/kylefrankovich/Desktop/insight/chicago_short_shop_list.txt --maximum 10 --media-types image --include-location --destination /Users/kylefrankovich/Desktop/insight/list_test_data --latest --retain-username\n",
    "\n",
    "added 8 postst from chicagoink; previous database entries: 65; should now be 65+8 = 73"
   ]
  },
  {
   "cell_type": "markdown",
   "metadata": {},
   "source": [
    "### updated mongo database through python script (update_mongo_database.py); \n",
    "\n",
    "added the following database and collections:\n",
    "\n",
    "db = client.insight_database\n",
    "collection = db.posts"
   ]
  },
  {
   "cell_type": "code",
   "execution_count": 89,
   "metadata": {
    "collapsed": true
   },
   "outputs": [],
   "source": [
    "# creating/opening database:\n",
    "db = client.insight_database\n",
    "\n",
    "# opening collection (instagram posts):\n",
    "collection = db.posts"
   ]
  },
  {
   "cell_type": "code",
   "execution_count": 90,
   "metadata": {},
   "outputs": [
    {
     "data": {
      "text/plain": [
       "['posts']"
      ]
     },
     "execution_count": 90,
     "metadata": {},
     "output_type": "execute_result"
    }
   ],
   "source": [
    "# listing all of the collections in our database:\n",
    "\n",
    "db.collection_names(include_system_collections=False)"
   ]
  },
  {
   "cell_type": "code",
   "execution_count": 111,
   "metadata": {},
   "outputs": [
    {
     "data": {
      "text/plain": [
       "2240"
      ]
     },
     "execution_count": 111,
     "metadata": {},
     "output_type": "execute_result"
    }
   ],
   "source": [
    "collection.count()"
   ]
  },
  {
   "cell_type": "code",
   "execution_count": 93,
   "metadata": {},
   "outputs": [
    {
     "data": {
      "text/plain": [
       "10"
      ]
     },
     "execution_count": 93,
     "metadata": {},
     "output_type": "execute_result"
    }
   ],
   "source": [
    "collection.find({\"account\": \"deluxetattoochicago\"}).count()"
   ]
  },
  {
   "cell_type": "code",
   "execution_count": 95,
   "metadata": {},
   "outputs": [
    {
     "data": {
      "text/plain": [
       "{'URL': 'https://scontent-atl3-1.cdninstagram.com/vp/7871e551e9177d2c35ec382de74dd080/5AF7EE27/t51.2885-15/e35/26284607_178071299611229_5893020074452713472_n.jpg',\n",
       " '_id': ObjectId('5a6662ddfce11d24edf4b193'),\n",
       " 'account': 'deluxetattoochicago',\n",
       " 'caption': 'Tattoo done by Bunny. #bunnydontinstagram #deluxetattoochicago',\n",
       " 'contains_tattoo': 1,\n",
       " 'date_added': datetime.datetime(2018, 1, 22, 16, 17, 1, 598000),\n",
       " 'dimensions': {'height': 1350, 'width': 1080},\n",
       " 'likes': 192,\n",
       " 'link_to_post': 'https://www.instagram.com/p/BeBwOoND4Cc',\n",
       " 'owner_id': '253694160',\n",
       " 'tags': ['bunnydontinstagram', 'deluxetattoochicago']}"
      ]
     },
     "execution_count": 95,
     "metadata": {},
     "output_type": "execute_result"
    }
   ],
   "source": [
    "collection.find_one({\"account\": \"deluxetattoochicago\"})"
   ]
  },
  {
   "cell_type": "code",
   "execution_count": 98,
   "metadata": {},
   "outputs": [],
   "source": [
    "sorted_posts = collection.find().sort([(\"likes\", pymongo.DESCENDING)])"
   ]
  },
  {
   "cell_type": "code",
   "execution_count": 108,
   "metadata": {},
   "outputs": [
    {
     "name": "stderr",
     "output_type": "stream",
     "text": [
      "/Users/kylefrankovich/anaconda/envs/insight/lib/python3.6/site-packages/ipykernel_launcher.py:1: DeprecationWarning: remove is deprecated. Use delete_one or delete_many instead.\n",
      "  \"\"\"Entry point for launching an IPython kernel.\n"
     ]
    },
    {
     "data": {
      "text/plain": [
       "{'n': 8, 'ok': 1.0}"
      ]
     },
     "execution_count": 108,
     "metadata": {},
     "output_type": "execute_result"
    }
   ],
   "source": [
    "# removing unwanted posts (our database updater went through our archived folder on accident...)\n",
    "# collection.remove({\"account\":'readyplayerone'})"
   ]
  },
  {
   "cell_type": "code",
   "execution_count": null,
   "metadata": {},
   "outputs": [],
   "source": []
  },
  {
   "cell_type": "code",
   "execution_count": null,
   "metadata": {
    "collapsed": true
   },
   "outputs": [],
   "source": []
  }
 ],
 "metadata": {
  "kernelspec": {
   "display_name": "Python 3",
   "language": "python",
   "name": "python3"
  },
  "language_info": {
   "codemirror_mode": {
    "name": "ipython",
    "version": 3
   },
   "file_extension": ".py",
   "mimetype": "text/x-python",
   "name": "python",
   "nbconvert_exporter": "python",
   "pygments_lexer": "ipython3",
   "version": "3.6.2"
  }
 },
 "nbformat": 4,
 "nbformat_minor": 2
}
