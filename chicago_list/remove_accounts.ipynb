{
 "cells": [
  {
   "cell_type": "markdown",
   "metadata": {},
   "source": [
    "### notebook to remove accounts from chicago_master_list.csv (won't have to update accounts we don't care about), and to also move/archive folders of accounts we downloaded that we don't care about anymore"
   ]
  },
  {
   "cell_type": "code",
   "execution_count": 31,
   "metadata": {
    "collapsed": true
   },
   "outputs": [],
   "source": [
    "import pandas as pd\n",
    "import csv"
   ]
  },
  {
   "cell_type": "code",
   "execution_count": 6,
   "metadata": {},
   "outputs": [],
   "source": [
    "accounts_to_filter = ['g_eazy', 'marvel', 'popsockets',\n",
    "                     'readyplayerone', 'junkyardchicago']\n",
    "\n",
    "chicago_master_list = pd.read_csv('/Users/kylefrankovich/Desktop/insight_project/chicago_list/chicago_master_list.csv', header=None)"
   ]
  },
  {
   "cell_type": "code",
   "execution_count": 27,
   "metadata": {},
   "outputs": [
    {
     "data": {
      "text/plain": [
       "247"
      ]
     },
     "execution_count": 27,
     "metadata": {},
     "output_type": "execute_result"
    }
   ],
   "source": [
    "account_list = chicago_master_list.iloc[0]\n",
    "len(account_list)"
   ]
  },
  {
   "cell_type": "code",
   "execution_count": 35,
   "metadata": {},
   "outputs": [
    {
     "name": "stdout",
     "output_type": "stream",
     "text": [
      "242\n"
     ]
    }
   ],
   "source": [
    "updated_list = []\n",
    "for account in account_list:\n",
    "    if account not in accounts_to_filter:\n",
    "        updated_list.append(account)\n",
    "print(len(updated_list))"
   ]
  },
  {
   "cell_type": "code",
   "execution_count": 36,
   "metadata": {},
   "outputs": [
    {
     "data": {
      "text/plain": [
       "['dminus12',\n",
       " 'jimlittle',\n",
       " 'zachstuka',\n",
       " 'dub_art',\n",
       " 'stephanietattoos',\n",
       " 'horifong',\n",
       " 'tattoounion',\n",
       " 'louisbarak',\n",
       " 'bobbyearly',\n",
       " 'witchbanger',\n",
       " 'revolutiontattoo',\n",
       " 'sideshowgallerychicago',\n",
       " 'burn_the_church_666',\n",
       " 'kyleadani',\n",
       " 'nicolascainlife',\n",
       " 'caromansur',\n",
       " 'heathrave',\n",
       " 'nkemr',\n",
       " 'jasonhoodrich',\n",
       " 'bobhaasetattooer',\n",
       " 'homesteadmachinery',\n",
       " 'leeleahytattooer',\n",
       " 'calebjamesfbsm',\n",
       " 'chitotena',\n",
       " 'piercingbyoscar',\n",
       " 'gentlemanjoel',\n",
       " 'rudycarrillo13',\n",
       " 'eurocash.tattoo',\n",
       " 'michael_tofano',\n",
       " 'allisonminorpiercing',\n",
       " 'nathanieltinker',\n",
       " 'bvla',\n",
       " 'tatsoul',\n",
       " 'themoonsharks',\n",
       " 'nickcolella',\n",
       " 'marina_inoue',\n",
       " 'mike_dalton_artbrutist',\n",
       " 'beatdown',\n",
       " 'erik_gillespie',\n",
       " 'milesmaniaci',\n",
       " 'mariodesatattoo',\n",
       " 'chipdouglastattoo',\n",
       " 'kevinlearytattoo',\n",
       " 'thetattooerspodcast',\n",
       " 'greatlakestattoo',\n",
       " 'everence.life',\n",
       " 'moira_mctaggert',\n",
       " 'caitlindrakemckay',\n",
       " 'representartco',\n",
       " 'adrian_montoya_tattooer_312',\n",
       " 'toydejour',\n",
       " 'vinceleblanc',\n",
       " 'davidjosephklinetattoos',\n",
       " 'high.onart',\n",
       " 'metamorphtattoo',\n",
       " 'hannahsteeleart',\n",
       " 'jacobkearney',\n",
       " 'elkeros',\n",
       " 'brionestatu',\n",
       " 'tattoosnob',\n",
       " 'spitandwhip',\n",
       " 'always.jd',\n",
       " 'electrictattoo',\n",
       " 'libra22187',\n",
       " 'toskote',\n",
       " 'dh_rivera',\n",
       " 'tattoosbycarlosp',\n",
       " 'cali_sefora',\n",
       " 'sarah_elizabeth_tattoos',\n",
       " 'keylan101',\n",
       " 'tattoorabbit',\n",
       " 'randycandyman',\n",
       " 'orlandolatorretattoo',\n",
       " 'drewtattoo13',\n",
       " 'dgree19',\n",
       " 'pinkrhinotattoo',\n",
       " 'jake_ames',\n",
       " 'kramirez557',\n",
       " 'ames32',\n",
       " '_rafaelcorona',\n",
       " 'outofstepbooks',\n",
       " 'ernestcline',\n",
       " 'joshua_meadows_tattoo',\n",
       " 'mariannebennetttattoo',\n",
       " 'fieldmuseum',\n",
       " 'rffr',\n",
       " 'donnaklein',\n",
       " 'rickybirdtattoo',\n",
       " 'lancelloyd_tst',\n",
       " 'johnwaynetattoos',\n",
       " 'zoya258',\n",
       " 'hdz.ink',\n",
       " 'stencilstuff',\n",
       " 'sullentv',\n",
       " 'h2ocean',\n",
       " 'h2oceanloyalty',\n",
       " 'radiantink',\n",
       " 'chchtattoos',\n",
       " 'viktor_mainata_tattoo',\n",
       " 'realistic.ink',\n",
       " 'eternalink',\n",
       " 'cheyenne_tattooequipment',\n",
       " 'h2oceanmodels',\n",
       " 'libbythelibberator',\n",
       " 'officialh2ocean',\n",
       " 'intenzetattooink',\n",
       " 'tattooartbyaxe',\n",
       " 'sherifftattoos',\n",
       " 'flower',\n",
       " 'n_u_c_o',\n",
       " 'studioonechicago',\n",
       " 'tattoosbymanga',\n",
       " 'flompflomp',\n",
       " 'miserable_mike_ftw',\n",
       " 'mpsjtattoo',\n",
       " 'dead_irene',\n",
       " 'chrisrodas',\n",
       " 'thesickleave',\n",
       " 'benart13',\n",
       " 'dctattooexpo',\n",
       " 'hammerheadtattoo',\n",
       " 'mermgypsy_tattoo',\n",
       " 'enniolopez1',\n",
       " 'philchesnick',\n",
       " 'jamsandjammers',\n",
       " 'eastroomchicago',\n",
       " 'pipeworksbrewing',\n",
       " 'futureteller',\n",
       " 'mikemactattoo',\n",
       " 'absider',\n",
       " 'wyse.1',\n",
       " 'hozacrecords',\n",
       " 'catsgethigh',\n",
       " 'whitemysteryband',\n",
       " 'dianaregalado',\n",
       " 'johnsundara',\n",
       " 'eldirtylou',\n",
       " 'justlostone',\n",
       " 'archeravecaesar',\n",
       " 'robinelizabethart',\n",
       " 'patrickcornolo',\n",
       " 'dmendieta',\n",
       " 'jennifertroktattoos',\n",
       " 'solokill',\n",
       " 'adamfox',\n",
       " 'juliacampione',\n",
       " 'ashleywolly',\n",
       " 'guerramarz',\n",
       " 'katietattoos',\n",
       " 'seanotattoo',\n",
       " 'tattooreleaseformsapp',\n",
       " 'donmeatball',\n",
       " 'royalfleshtattoo',\n",
       " 'jakedoestattoos',\n",
       " 'joe_fryday',\n",
       " 'luciantatar.tattooart',\n",
       " 'christattoosstuff',\n",
       " 'closmontilla',\n",
       " 'wild_coma',\n",
       " 'marshallgarfieldbrown',\n",
       " 'mongenastattoo',\n",
       " 'jmccrocklin',\n",
       " 'maxwellquesterbrown',\n",
       " 'bonepainter',\n",
       " 'rohar23',\n",
       " 'electric_rat',\n",
       " 'stormintattoos',\n",
       " 'oldirtybadkat',\n",
       " 'electric_rat_tattoo',\n",
       " 'echovoxx',\n",
       " 'killabunzz',\n",
       " 'heatherannsquid',\n",
       " 'jasonhouseman',\n",
       " 'jeffptattoos',\n",
       " 'corykruger',\n",
       " 'wendellfraziertattooer',\n",
       " 'kellysevertson',\n",
       " 'fcacc1',\n",
       " 'insightoceanside',\n",
       " 'jdplumeria',\n",
       " 'johnny_mcdevitt',\n",
       " 'jimmy.yeaman',\n",
       " 'brianbuchak',\n",
       " 'brianbuchaktattoo',\n",
       " 'theofficialbobjones',\n",
       " 'jameseastwood',\n",
       " 'aurora.jpg',\n",
       " 'itstayloralivia',\n",
       " 'santigramm',\n",
       " 'jeffpaetzold',\n",
       " 'greaterchicagoferretassoc',\n",
       " 'anthony_jolon',\n",
       " 'piercingsbyjeff',\n",
       " 'jrdiaz16',\n",
       " 'erisqesari',\n",
       " 'joni_tattoo_',\n",
       " 'indivcci24',\n",
       " 'she_asg',\n",
       " 'candoogle',\n",
       " 'channabomb',\n",
       " 'inkharttattoos',\n",
       " 'skilodious',\n",
       " 'juanofhive',\n",
       " 'inkhartreg',\n",
       " 'deluxetattoochicago',\n",
       " 'insightstudios',\n",
       " 'chicagoinktattoo',\n",
       " 'chicagotattoo',\n",
       " 'tattoofactory',\n",
       " 'speakeasytat',\n",
       " 'greatlakestattoo',\n",
       " 'codeofconducttattoo',\n",
       " 'familytattoo',\n",
       " 'revolutiontattoo',\n",
       " 'logansquaretattoo',\n",
       " 'mindcrushertattoo',\n",
       " 'tattoounion',\n",
       " 'venturetattoo',\n",
       " 'wildwindtattoo',\n",
       " 'tattoocandychicago',\n",
       " 'archeravenuetattoo',\n",
       " 'pinkrhinotattoo',\n",
       " 'royalfleshtattoo',\n",
       " 'taylorstreettattoo',\n",
       " 'animalfarmtattoo',\n",
       " 'studioonechicago',\n",
       " 'metamorphtattoo',\n",
       " 'hammerheadtattoo',\n",
       " 'inkharttattoos',\n",
       " 'chitowntattoo',\n",
       " 'infamousinktattoochicago',\n",
       " 'brownbrotherstattoo',\n",
       " 'shredsinferno',\n",
       " 'westtowntattoo',\n",
       " 'zach_sabbathtattoos',\n",
       " 'feralcatbox',\n",
       " 'butterstinker',\n",
       " 'harlan22',\n",
       " 'ryanflaherty',\n",
       " 'cknoxtattoo',\n",
       " 'davidallen',\n",
       " 'troytaylor']"
      ]
     },
     "execution_count": 36,
     "metadata": {},
     "output_type": "execute_result"
    }
   ],
   "source": [
    "updated_list"
   ]
  },
  {
   "cell_type": "code",
   "execution_count": 34,
   "metadata": {},
   "outputs": [],
   "source": [
    "# export cleaned, processed, updated artist_master_list to .csv:\n",
    "\n",
    "filename = '/Users/kylefrankovich/Desktop/insight_project/chicago_list/chicago_master_list.csv'\n",
    "with open(filename, 'w') as myfile:\n",
    "    wr = csv.writer(myfile, quoting=csv.QUOTE_MINIMAL)\n",
    "    wr.writerow(updated_list)"
   ]
  },
  {
   "cell_type": "markdown",
   "metadata": {},
   "source": [
    "### move/archive folders for accounts we're not interested in keeping:"
   ]
  },
  {
   "cell_type": "code",
   "execution_count": 42,
   "metadata": {},
   "outputs": [
    {
     "data": {
      "text/plain": [
       "'/Users/kylefrankovich/Desktop/insight_project_data/marvel'"
      ]
     },
     "execution_count": 42,
     "metadata": {},
     "output_type": "execute_result"
    }
   ],
   "source": [
    "destination_folder = '/Users/kylefrankovich/Desktop/insight_project_data/archive'\n",
    "folders_to_move = []\n",
    "for i in accounts_to_filter:\n",
    "    folders_to_move.append('/Users/kylefrankovich/Desktop/insight_project_data/' + i)\n",
    "folder_1 = folders_to_move[0]\n",
    "folder_2 = folders_to_move[1]\n",
    "folder_3 = folders_to_move[2]\n",
    "folder_4 = folders_to_move[3]\n",
    "folder_5 = folders_to_move[4]\n",
    "folder_2"
   ]
  },
  {
   "cell_type": "code",
   "execution_count": null,
   "metadata": {
    "collapsed": true
   },
   "outputs": [],
   "source": [
    "mv source_folder destination_folder"
   ]
  },
  {
   "cell_type": "code",
   "execution_count": null,
   "metadata": {
    "collapsed": true
   },
   "outputs": [],
   "source": [
    "mv '/Users/kylefrankovich/Desktop/insight/list_test_data/empty_test' '/Users/kylefrankovich/Desktop/insight/list_test_data/archive' "
   ]
  },
  {
   "cell_type": "code",
   "execution_count": null,
   "metadata": {
    "collapsed": true
   },
   "outputs": [],
   "source": [
    "mv '/Users/kylefrankovich/Desktop/insight_project_data/junkyardchicago' '/Users/kylefrankovich/Desktop/insight_project_data/archive' "
   ]
  }
 ],
 "metadata": {
  "kernelspec": {
   "display_name": "Python 3",
   "language": "python",
   "name": "python3"
  },
  "language_info": {
   "codemirror_mode": {
    "name": "ipython",
    "version": 3
   },
   "file_extension": ".py",
   "mimetype": "text/x-python",
   "name": "python",
   "nbconvert_exporter": "python",
   "pygments_lexer": "ipython3",
   "version": "3.6.2"
  }
 },
 "nbformat": 4,
 "nbformat_minor": 2
}
