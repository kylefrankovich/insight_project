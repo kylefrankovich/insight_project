{
 "cells": [
  {
   "cell_type": "code",
   "execution_count": 2,
   "metadata": {},
   "outputs": [],
   "source": [
    "from __future__ import division\n",
    "from __future__ import print_function\n",
    "from PIL import Image\n",
    "from sklearn import model_selection\n",
    "from sklearn import grid_search\n",
    "from sklearn import svm\n",
    "from sklearn import metrics\n",
    "from io import StringIO\n",
    "from io import BytesIO\n",
    "from urllib.parse import urlparse\n",
    "import pandas as pd\n",
    "import pickle\n",
    "import csv\n",
    "import urllib\n",
    "import urllib.request\n",
    "import requests\n",
    "import sys\n",
    "import os\n",
    "import datetime\n",
    "import time"
   ]
  },
  {
   "cell_type": "code",
   "execution_count": null,
   "metadata": {
    "collapsed": true
   },
   "outputs": [],
   "source": []
  }
 ],
 "metadata": {
  "kernelspec": {
   "display_name": "Python 3",
   "language": "python",
   "name": "python3"
  },
  "language_info": {
   "codemirror_mode": {
    "name": "ipython",
    "version": 3
   },
   "file_extension": ".py",
   "mimetype": "text/x-python",
   "name": "python",
   "nbconvert_exporter": "python",
   "pygments_lexer": "ipython3",
   "version": "3.6.2"
  }
 },
 "nbformat": 4,
 "nbformat_minor": 2
}
